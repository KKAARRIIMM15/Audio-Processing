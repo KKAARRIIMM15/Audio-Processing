{
  "cells": [
    {
      "cell_type": "markdown",
      "metadata": {
        "id": "view-in-github",
        "colab_type": "text"
      },
      "source": [
        "<a href=\"https://colab.research.google.com/github/KKAARRIIMM15/Audio-Processing/blob/main/Bioinformatics/Lung_Diagnose.ipynb\" target=\"_parent\"><img src=\"https://colab.research.google.com/assets/colab-badge.svg\" alt=\"Open In Colab\"/></a>"
      ]
    },
    {
      "cell_type": "code",
      "source": [],
      "metadata": {
        "id": "zI-S6yuJc8xG"
      },
      "execution_count": null,
      "outputs": []
    },
    {
      "cell_type": "markdown",
      "source": [
        "## the Author Email is **karimeldeeb2001@gmail.com**\n",
        "## the Author what's up number is **+201555604511**"
      ],
      "metadata": {
        "id": "IlxO8oPHaamn"
      }
    },
    {
      "cell_type": "code",
      "source": [],
      "metadata": {
        "id": "veI3Bv8cdTt0"
      },
      "execution_count": null,
      "outputs": []
    },
    {
      "cell_type": "markdown",
      "source": [
        "**This project shows how to build and train biLSTM neural network to classify the extracted MFCCs from the audio signal.**\n"
      ],
      "metadata": {
        "id": "3ImIjkNpVqCs"
      }
    },
    {
      "cell_type": "markdown",
      "source": [
        " **Project Idea**\n",
        "\n",
        "project idea is to scan the the breathing sound of the lung then analyze the audio signal to detect 7 Lung Diseases whether it is (Pneumonia, Bronchiolitis, LRTI, Asthma, URTI, COPD, Normal)"
      ],
      "metadata": {
        "id": "EhKBuhlJe2dC"
      }
    },
    {
      "cell_type": "markdown",
      "source": [
        "\n",
        "### The dataset contains audio records of 7 Lung Diseases\n",
        "\n",
        "the dataset is from kaggle [link dataset](https://www.kaggle.com/datasets/vbookshelf/respiratory-sound-database)"
      ],
      "metadata": {
        "id": "1JF2VntRhN4U"
      }
    },
    {
      "cell_type": "code",
      "source": [],
      "metadata": {
        "id": "lNvot88Resrg"
      },
      "execution_count": null,
      "outputs": []
    },
    {
      "cell_type": "code",
      "execution_count": null,
      "metadata": {
        "id": "CcZ0RQdC22CQ",
        "collapsed": true
      },
      "outputs": [],
      "source": [
        "from google.colab import drive\n",
        "drive.mount('/content/drive')\n",
        "\n",
        "import librosa\n",
        "import numpy as np"
      ]
    },
    {
      "cell_type": "code",
      "source": [
        "\n",
        "def MFCC( y, sr ):\n",
        "\n",
        "  MFCC = librosa.feature.mfcc( y=y, sr=sr )\n",
        "\n",
        "  positiveCoefficient  = np.where(MFCC > 0, MFCC, 0)\n",
        "  negativeCoefficient  = np.where(MFCC < 0, MFCC, 0)\n",
        "\n",
        "  pstv_parts = np.array_split(positiveCoefficient.flatten(), 500 )\n",
        "  ngtv_parts = np.array_split(negativeCoefficient.flatten(), 500 )\n",
        "\n",
        "  pstv = [ ]\n",
        "  ngtv = [ ]\n",
        "\n",
        "  i = 0\n",
        "  while( i < len(pstv_parts) ):\n",
        "\n",
        "      if np.any(pstv_parts[i]):\n",
        "        pstv.append( pstv_parts[i].mean() / 270 )   # Normalize\n",
        "\n",
        "      else:\n",
        "        mean_value = 0.0\n",
        "        pstv.append( mean_value )\n",
        "\n",
        "      if np.any(ngtv_parts[i]):\n",
        "        ngtv.append( ngtv_parts[i].mean() / 400)    # Normalize\n",
        "\n",
        "      else:\n",
        "        mean_value = 0.0\n",
        "        ngtv.append( mean_value )\n",
        "\n",
        "      i = i + 1\n",
        "\n",
        "  pstv = np.array(pstv)\n",
        "  ngtv = np.array(ngtv)\n",
        "\n",
        "\n",
        "  concatenated_arr = np.concatenate(( pstv , ngtv ))\n",
        "  concatenated_arr = np.round(concatenated_arr , decimals = 5 )\n",
        "\n",
        "  return concatenated_arr.reshape(10, 100)\n",
        "\n"
      ],
      "metadata": {
        "colab": {
          "base_uri": "https://localhost:8080/"
        },
        "id": "UPS2NxbmSC5R",
        "outputId": "0b268440-da9c-4a8b-b12e-dfdc975f206c"
      },
      "execution_count": null,
      "outputs": [
        {
          "output_type": "execute_result",
          "data": {
            "text/plain": [
              "(10, 100)"
            ]
          },
          "metadata": {},
          "execution_count": 3
        }
      ]
    },
    {
      "cell_type": "markdown",
      "source": [
        "**The reasons why i extracted the MFCCs from the audio signal**\n",
        "Lung diseases (like asthma, COPD, or pneumonia) often change the way a person breathes or coughs. These changes affect the sound of their breath or cough. Here’s why MFCCs are useful:\n",
        "\n",
        "**1- Capture Disease-Specific Patterns:** MFCCs can highlight subtle differences in sound that are specific to certain lung diseases. For example, a wheezing sound (common in asthma) will have different MFCCs compared to a normal breath.\n",
        "\n",
        "**2-Reduce Complexity:** Instead of analyzing the entire raw audio signal (which is huge and noisy), MFCCs give you a smaller, cleaner set of features to work with. This makes it easier for your LSTM model to learn and classify.\n",
        "\n",
        "**3- Captures Temporal and Spectral Features:** Why It Matters: Lung disease sounds (like coughs or wheezes) have both temporal (how the sound changes over time) and spectral (the frequencies present in the sound) characteristics. MFCCs capture both types of features.\n",
        "\n",
        "Benefit: This gives your biLSTM model a richer set of information to work with, improving its ability to classify diseases accurately.\n"
      ],
      "metadata": {
        "id": "yKmtdW3Erm43"
      }
    },
    {
      "cell_type": "code",
      "execution_count": null,
      "metadata": {
        "id": "qCTk-FypeO6R"
      },
      "outputs": [],
      "source": [
        "import warnings\n",
        "\n",
        "Pneumonia_Feature = [ ];        Pneumonia_Label = [ ]\n",
        "\n",
        "Bronchiolitis_Feature = [ ];    Bronchiolitis_Label = [ ]\n",
        "\n",
        "LRTI_Feature = [ ];             LRTI_Label = [ ]\n",
        "Asthma_Feature = [ ];           Asthma_Label = [ ]\n",
        "URTI_Feature = [ ];             URTI_Label = [ ]\n",
        "\n",
        "COPD_Feature = [ ];             COPD_Label = [ ]\n",
        "Healthy_Feature = [ ];          Healthy_Label = [ ]\n",
        "\n",
        "\n",
        "import pandas as pd\n",
        "data = pd.read_csv(\"drive//MyDrive//Respiratory//patient_diagnosis.csv\", header=None)\n",
        "\n",
        "\n",
        "import os\n",
        "directory = \"drive//MyDrive//Respiratory//audio_and_txt_files\"\n",
        "audio_files = os.listdir(directory)\n",
        "\n",
        "audio_files = [file for file in audio_files if file.endswith('.wav')]\n"
      ]
    },
    {
      "cell_type": "markdown",
      "source": [
        "**I labeled the 7 Lung Diseases from 0 to 6**"
      ],
      "metadata": {
        "id": "yAUA65PQuKNY"
      }
    },
    {
      "cell_type": "code",
      "execution_count": null,
      "metadata": {
        "id": "QNbFlUeUePGk",
        "collapsed": true
      },
      "outputs": [],
      "source": [
        "i = 0\n",
        "while(i < len(audio_files) ):\n",
        "\n",
        "  with warnings.catch_warnings():\n",
        "    warnings.filterwarnings(\"error\", category=RuntimeWarning)\n",
        "\n",
        "  y, sr = librosa.load(\"drive//MyDrive//Respiratory//audio_and_txt_files//\" + audio_files[i] )\n",
        "  try:\n",
        "    concatenated_arr = MFCC( y , sr )\n",
        "\n",
        "    if ( concatenated_arr is not None ):\n",
        "      result = data[ data[0] == int(audio_files[i].split(\"_\")[0] ) ]\n",
        "\n",
        "      if( result[1].values[0] == \"Pneumonia\" ):\n",
        "        Pneumonia_Feature.append( concatenated_arr )\n",
        "        Pneumonia_Label.append(0)\n",
        "        print( \"Pneumonia\" + \"   \" + str(i) )\n",
        "\n",
        "      elif( result[1].values[0] == \"Bronchiolitis\" ):\n",
        "        Bronchiolitis_Feature.append( concatenated_arr )\n",
        "        Bronchiolitis_Label.append(1)\n",
        "        print( \"Bronchiolitis\" + \"   \" + str(i) )\n",
        "\n",
        "      elif( result[1].values[0] == \"Healthy\" ):\n",
        "        Healthy_Feature.append( concatenated_arr )\n",
        "        Healthy_Label.append(2)\n",
        "        print( \"Healthy\" + \"   \" + str(i) )\n",
        "\n",
        "\n",
        "      elif( result[1].values[0] == \"COPD\" ):\n",
        "        COPD_Feature.append( concatenated_arr )\n",
        "        COPD_Label.append(3)\n",
        "        #print( \"COPD\" + \"   \" + str(i) )\n",
        "\n",
        "\n",
        "      elif( result[1].values[0] == \"URTI\" ):\n",
        "        URTI_Feature.append( concatenated_arr )\n",
        "        URTI_Label.append(4)\n",
        "        print( \"URTI\" + \"   \" + str(i) )\n",
        "\n",
        "\n",
        "      elif( result[1].values[0] == \"Asthma\" ):\n",
        "        Asthma_Feature.append( concatenated_arr )\n",
        "        Asthma_Label.append(5)\n",
        "        print( \"Asthma\" + \"   \" + str(i) )\n",
        "\n",
        "\n",
        "      elif( result[1].values[0] == \"LRTI\" ):\n",
        "        LRTI_Feature.append( concatenated_arr )\n",
        "        LRTI_Label.append(6)\n",
        "        print( \"LRTI\" + \"   \" + str(i) )\n",
        "\n",
        "  except Exception as e:{}\n",
        "\n",
        "  i = i + 1\n"
      ]
    },
    {
      "cell_type": "code",
      "execution_count": null,
      "metadata": {
        "id": "xtG-g2PBe4BI"
      },
      "outputs": [],
      "source": [
        "from sklearn.model_selection import train_test_split\n",
        "\n",
        "voice = np.concatenate(( Pneumonia_Feature , Bronchiolitis_Feature , Healthy_Feature ,COPD_Feature , URTI_Feature,Asthma_Feature,LRTI_Feature   ), axis=0)\n",
        "cls = np.concatenate(( Pneumonia_Label , Bronchiolitis_Label , Healthy_Label  , COPD_Label ,URTI_Label , Asthma_Label , LRTI_Label   ), axis=0)\n",
        "\n",
        "xTrain, xval, yTrain, yval = train_test_split(voice, cls , test_size=0.3, random_state=42)  # 30% for Testing"
      ]
    },
    {
      "cell_type": "markdown",
      "source": [
        "**Build biLSTM neural network**"
      ],
      "metadata": {
        "id": "eIqV9a5Xu2hg"
      }
    },
    {
      "cell_type": "code",
      "execution_count": null,
      "metadata": {
        "id": "p1fTfGOVjCbT"
      },
      "outputs": [],
      "source": [
        "from tensorflow import Bidirectional , LSTM , Dense , Adam , models\n",
        "\n",
        "model = models.Sequential()\n",
        "model.add(Bidirectional( LSTM(units=32 , input_shape=(10, 100)  , activation='tanh', recurrent_activation='sigmoid') ) )\n",
        "model.add(Dense(16, activation=\"selu\" ))\n",
        "model.add(Dense(units=7, activation='softmax'))\n",
        "\n"
      ]
    },
    {
      "cell_type": "code",
      "execution_count": null,
      "metadata": {
        "colab": {
          "base_uri": "https://localhost:8080/"
        },
        "id": "qLNCXSDXjCdz",
        "outputId": "df302f2a-8298-4bf0-e3bb-d3bf7f0a3e16"
      },
      "outputs": [
        {
          "output_type": "stream",
          "name": "stdout",
          "text": [
            "Model: \"sequential_7\"\n",
            "_________________________________________________________________\n",
            " Layer (type)                Output Shape              Param #   \n",
            "=================================================================\n",
            " bidirectional_7 (Bidirecti  (None, 64)                34048     \n",
            " onal)                                                           \n",
            "                                                                 \n",
            " dense_14 (Dense)            (None, 16)                1040      \n",
            "                                                                 \n",
            " dense_15 (Dense)            (None, 7)                 119       \n",
            "                                                                 \n",
            "=================================================================\n",
            "Total params: 35207 (137.53 KB)\n",
            "Trainable params: 35207 (137.53 KB)\n",
            "Non-trainable params: 0 (0.00 Byte)\n",
            "_________________________________________________________________\n"
          ]
        }
      ],
      "source": [
        "optimiz = Adam(learning_rate=0.001)\n",
        "\n",
        "model.compile(optimizer= optimiz , loss='SparseCategoricalCrossentropy', metrics=['accuracy'])   # Compile the model\n",
        "model.build(input_shape=(None,10, 100))\n",
        "model.summary()"
      ]
    },
    {
      "cell_type": "markdown",
      "source": [
        "**Start Training**"
      ],
      "metadata": {
        "id": "95ScM5kTvOIL"
      }
    },
    {
      "cell_type": "code",
      "execution_count": null,
      "metadata": {
        "colab": {
          "base_uri": "https://localhost:8080/"
        },
        "id": "SWf32SSnjCjE",
        "outputId": "e49131f4-ea11-4977-e99e-e93880d926c9"
      },
      "outputs": [
        {
          "output_type": "stream",
          "name": "stdout",
          "text": [
            "Epoch 1/30\n",
            "81/81 [==============================] - 8s 25ms/step - loss: 0.7435 - accuracy: 0.8672 - val_loss: 0.5245 - val_accuracy: 0.8848\n",
            "Epoch 2/30\n",
            "81/81 [==============================] - 1s 11ms/step - loss: 0.5075 - accuracy: 0.8896 - val_loss: 0.5048 - val_accuracy: 0.8848\n",
            "Epoch 3/30\n",
            "81/81 [==============================] - 1s 11ms/step - loss: 0.4726 - accuracy: 0.8896 - val_loss: 0.4870 - val_accuracy: 0.8848\n",
            "Epoch 4/30\n",
            "81/81 [==============================] - 1s 11ms/step - loss: 0.4462 - accuracy: 0.8896 - val_loss: 0.4543 - val_accuracy: 0.8848\n",
            "Epoch 5/30\n",
            "81/81 [==============================] - 1s 10ms/step - loss: 0.4134 - accuracy: 0.8896 - val_loss: 0.4072 - val_accuracy: 0.8848\n",
            "Epoch 6/30\n",
            "81/81 [==============================] - 1s 11ms/step - loss: 0.4003 - accuracy: 0.8896 - val_loss: 0.4255 - val_accuracy: 0.8865\n",
            "Epoch 7/30\n",
            "81/81 [==============================] - 1s 11ms/step - loss: 0.3921 - accuracy: 0.8896 - val_loss: 0.3898 - val_accuracy: 0.8848\n",
            "Epoch 8/30\n",
            "81/81 [==============================] - 1s 11ms/step - loss: 0.3932 - accuracy: 0.8896 - val_loss: 0.3832 - val_accuracy: 0.8848\n",
            "Epoch 9/30\n",
            "81/81 [==============================] - 1s 11ms/step - loss: 0.3838 - accuracy: 0.8896 - val_loss: 0.3712 - val_accuracy: 0.8848\n",
            "Epoch 10/30\n",
            "81/81 [==============================] - 1s 13ms/step - loss: 0.3669 - accuracy: 0.8896 - val_loss: 0.3690 - val_accuracy: 0.8865\n",
            "Epoch 11/30\n",
            "81/81 [==============================] - 2s 19ms/step - loss: 0.3765 - accuracy: 0.8871 - val_loss: 0.3618 - val_accuracy: 0.8865\n",
            "Epoch 12/30\n",
            "81/81 [==============================] - 2s 19ms/step - loss: 0.3527 - accuracy: 0.8933 - val_loss: 0.3496 - val_accuracy: 0.8865\n",
            "Epoch 13/30\n",
            "81/81 [==============================] - 1s 17ms/step - loss: 0.3773 - accuracy: 0.8908 - val_loss: 0.3556 - val_accuracy: 0.8865\n",
            "Epoch 14/30\n",
            "81/81 [==============================] - 1s 13ms/step - loss: 0.3677 - accuracy: 0.8883 - val_loss: 0.3547 - val_accuracy: 0.8865\n",
            "Epoch 15/30\n",
            "81/81 [==============================] - 1s 11ms/step - loss: 0.3456 - accuracy: 0.8883 - val_loss: 0.3519 - val_accuracy: 0.8865\n",
            "Epoch 16/30\n",
            "81/81 [==============================] - 1s 11ms/step - loss: 0.3619 - accuracy: 0.8908 - val_loss: 0.3853 - val_accuracy: 0.8865\n",
            "Epoch 17/30\n",
            "81/81 [==============================] - 1s 11ms/step - loss: 0.3361 - accuracy: 0.8883 - val_loss: 0.3487 - val_accuracy: 0.8901\n",
            "Epoch 18/30\n",
            "81/81 [==============================] - 1s 13ms/step - loss: 0.3342 - accuracy: 0.8921 - val_loss: 0.3246 - val_accuracy: 0.8865\n",
            "Epoch 19/30\n",
            "81/81 [==============================] - 1s 11ms/step - loss: 0.3502 - accuracy: 0.8859 - val_loss: 0.3332 - val_accuracy: 0.8883\n",
            "Epoch 20/30\n",
            "81/81 [==============================] - 1s 11ms/step - loss: 0.3214 - accuracy: 0.8933 - val_loss: 0.3932 - val_accuracy: 0.8865\n",
            "Epoch 21/30\n",
            "81/81 [==============================] - 1s 13ms/step - loss: 0.3279 - accuracy: 0.8945 - val_loss: 0.3002 - val_accuracy: 0.8972\n",
            "Epoch 22/30\n",
            "81/81 [==============================] - 1s 11ms/step - loss: 0.3315 - accuracy: 0.8908 - val_loss: 0.3807 - val_accuracy: 0.8883\n",
            "Epoch 23/30\n",
            "81/81 [==============================] - 1s 13ms/step - loss: 0.3145 - accuracy: 0.8983 - val_loss: 0.3047 - val_accuracy: 0.9007\n",
            "Epoch 24/30\n",
            "81/81 [==============================] - 2s 19ms/step - loss: 0.2964 - accuracy: 0.8995 - val_loss: 0.3012 - val_accuracy: 0.8954\n",
            "Epoch 25/30\n",
            "81/81 [==============================] - 2s 19ms/step - loss: 0.3005 - accuracy: 0.9045 - val_loss: 0.2977 - val_accuracy: 0.8918\n",
            "Epoch 26/30\n",
            "81/81 [==============================] - 1s 13ms/step - loss: 0.3081 - accuracy: 0.8958 - val_loss: 0.2988 - val_accuracy: 0.8918\n",
            "Epoch 27/30\n",
            "81/81 [==============================] - 1s 11ms/step - loss: 0.3119 - accuracy: 0.8983 - val_loss: 0.4213 - val_accuracy: 0.8848\n",
            "Epoch 28/30\n",
            "81/81 [==============================] - 1s 11ms/step - loss: 0.2929 - accuracy: 0.9020 - val_loss: 0.3031 - val_accuracy: 0.8989\n",
            "Epoch 29/30\n",
            "81/81 [==============================] - 1s 11ms/step - loss: 0.2939 - accuracy: 0.9045 - val_loss: 0.2700 - val_accuracy: 0.9131\n",
            "Epoch 30/30\n",
            "81/81 [==============================] - 1s 13ms/step - loss: 0.2896 - accuracy: 0.9057 - val_loss: 0.2880 - val_accuracy: 0.9060\n"
          ]
        }
      ],
      "source": [
        "history = model.fit( xTrain , yTrain , epochs=30, batch_size=10 , validation_data=(xval, yval)  )"
      ]
    },
    {
      "cell_type": "code",
      "source": [
        "optimiz = Adam(learning_rate=0.0009)\n",
        "model.compile(optimizer= optimiz , loss='SparseCategoricalCrossentropy', metrics=['accuracy'])   # Compile the model"
      ],
      "metadata": {
        "id": "fzZgMJsL0ivs"
      },
      "execution_count": null,
      "outputs": []
    },
    {
      "cell_type": "code",
      "execution_count": null,
      "metadata": {
        "id": "lHSB5iSGo5QM",
        "colab": {
          "base_uri": "https://localhost:8080/"
        },
        "outputId": "4925186b-d65f-4471-9ae6-fdede1e2d4b0"
      },
      "outputs": [
        {
          "output_type": "stream",
          "name": "stdout",
          "text": [
            "Epoch 1/40\n",
            "162/162 [==============================] - 6s 14ms/step - loss: 0.2882 - accuracy: 0.9057 - val_loss: 0.2457 - val_accuracy: 0.9174\n",
            "Epoch 2/40\n",
            "162/162 [==============================] - 1s 9ms/step - loss: 0.2868 - accuracy: 0.9020 - val_loss: 0.2569 - val_accuracy: 0.9174\n",
            "Epoch 3/40\n",
            "162/162 [==============================] - 2s 14ms/step - loss: 0.2677 - accuracy: 0.9156 - val_loss: 0.2263 - val_accuracy: 0.9298\n",
            "Epoch 4/40\n",
            "162/162 [==============================] - 2s 14ms/step - loss: 0.2868 - accuracy: 0.9094 - val_loss: 0.2445 - val_accuracy: 0.9215\n",
            "Epoch 5/40\n",
            "162/162 [==============================] - 1s 9ms/step - loss: 0.2637 - accuracy: 0.9119 - val_loss: 0.2466 - val_accuracy: 0.9174\n",
            "Epoch 6/40\n",
            "162/162 [==============================] - 1s 9ms/step - loss: 0.2698 - accuracy: 0.9169 - val_loss: 0.2793 - val_accuracy: 0.9174\n",
            "Epoch 7/40\n",
            "162/162 [==============================] - 1s 9ms/step - loss: 0.2598 - accuracy: 0.9107 - val_loss: 0.2666 - val_accuracy: 0.9215\n",
            "Epoch 8/40\n",
            "162/162 [==============================] - 1s 9ms/step - loss: 0.2626 - accuracy: 0.9156 - val_loss: 0.2310 - val_accuracy: 0.9256\n",
            "Epoch 9/40\n",
            "162/162 [==============================] - 1s 9ms/step - loss: 0.2596 - accuracy: 0.9094 - val_loss: 0.2585 - val_accuracy: 0.8967\n",
            "Epoch 10/40\n",
            "162/162 [==============================] - 1s 9ms/step - loss: 0.2563 - accuracy: 0.9156 - val_loss: 0.2394 - val_accuracy: 0.9174\n",
            "Epoch 11/40\n",
            "162/162 [==============================] - 2s 11ms/step - loss: 0.2447 - accuracy: 0.9094 - val_loss: 0.3602 - val_accuracy: 0.8802\n",
            "Epoch 12/40\n",
            "162/162 [==============================] - 3s 16ms/step - loss: 0.2494 - accuracy: 0.9069 - val_loss: 0.2084 - val_accuracy: 0.9215\n",
            "Epoch 13/40\n",
            "162/162 [==============================] - 2s 11ms/step - loss: 0.2353 - accuracy: 0.9156 - val_loss: 0.2208 - val_accuracy: 0.9215\n",
            "Epoch 14/40\n",
            "162/162 [==============================] - 1s 9ms/step - loss: 0.2408 - accuracy: 0.9206 - val_loss: 0.2198 - val_accuracy: 0.9298\n",
            "Epoch 15/40\n",
            "162/162 [==============================] - 1s 9ms/step - loss: 0.2384 - accuracy: 0.9132 - val_loss: 0.2174 - val_accuracy: 0.9298\n",
            "Epoch 16/40\n",
            "162/162 [==============================] - 1s 9ms/step - loss: 0.2131 - accuracy: 0.9256 - val_loss: 0.2032 - val_accuracy: 0.9421\n",
            "Epoch 17/40\n",
            "162/162 [==============================] - 2s 9ms/step - loss: 0.2298 - accuracy: 0.9256 - val_loss: 0.2113 - val_accuracy: 0.9215\n",
            "Epoch 18/40\n",
            "162/162 [==============================] - 1s 9ms/step - loss: 0.2594 - accuracy: 0.9032 - val_loss: 0.2402 - val_accuracy: 0.9050\n",
            "Epoch 19/40\n",
            "162/162 [==============================] - 1s 9ms/step - loss: 0.2095 - accuracy: 0.9280 - val_loss: 0.2391 - val_accuracy: 0.9050\n",
            "Epoch 20/40\n",
            "162/162 [==============================] - 2s 15ms/step - loss: 0.2103 - accuracy: 0.9206 - val_loss: 0.2008 - val_accuracy: 0.9256\n",
            "Epoch 21/40\n",
            "162/162 [==============================] - 2s 14ms/step - loss: 0.2139 - accuracy: 0.9218 - val_loss: 0.1854 - val_accuracy: 0.9339\n",
            "Epoch 22/40\n",
            "162/162 [==============================] - 2s 9ms/step - loss: 0.1963 - accuracy: 0.9256 - val_loss: 0.2564 - val_accuracy: 0.9174\n",
            "Epoch 23/40\n",
            "162/162 [==============================] - 1s 9ms/step - loss: 0.2102 - accuracy: 0.9293 - val_loss: 0.1913 - val_accuracy: 0.9298\n",
            "Epoch 24/40\n",
            "162/162 [==============================] - 1s 9ms/step - loss: 0.1998 - accuracy: 0.9280 - val_loss: 0.1831 - val_accuracy: 0.9298\n",
            "Epoch 25/40\n",
            "162/162 [==============================] - 1s 9ms/step - loss: 0.1774 - accuracy: 0.9355 - val_loss: 0.2732 - val_accuracy: 0.9091\n",
            "Epoch 26/40\n",
            "162/162 [==============================] - 1s 9ms/step - loss: 0.2197 - accuracy: 0.9156 - val_loss: 0.1880 - val_accuracy: 0.9215\n",
            "Epoch 27/40\n",
            "162/162 [==============================] - 2s 9ms/step - loss: 0.1802 - accuracy: 0.9392 - val_loss: 0.1903 - val_accuracy: 0.9298\n",
            "Epoch 28/40\n",
            "162/162 [==============================] - 2s 12ms/step - loss: 0.1786 - accuracy: 0.9256 - val_loss: 0.1869 - val_accuracy: 0.9256\n",
            "Epoch 29/40\n",
            "162/162 [==============================] - 3s 16ms/step - loss: 0.1997 - accuracy: 0.9280 - val_loss: 0.1787 - val_accuracy: 0.9380\n",
            "Epoch 30/40\n",
            "162/162 [==============================] - 1s 9ms/step - loss: 0.1763 - accuracy: 0.9318 - val_loss: 0.1558 - val_accuracy: 0.9256\n",
            "Epoch 31/40\n",
            "162/162 [==============================] - 1s 9ms/step - loss: 0.1630 - accuracy: 0.9392 - val_loss: 0.1521 - val_accuracy: 0.9380\n",
            "Epoch 32/40\n",
            "162/162 [==============================] - 1s 9ms/step - loss: 0.1683 - accuracy: 0.9429 - val_loss: 0.1599 - val_accuracy: 0.9463\n",
            "Epoch 33/40\n",
            "162/162 [==============================] - 1s 9ms/step - loss: 0.1707 - accuracy: 0.9355 - val_loss: 0.1651 - val_accuracy: 0.9339\n",
            "Epoch 34/40\n",
            "162/162 [==============================] - 1s 9ms/step - loss: 0.1619 - accuracy: 0.9355 - val_loss: 0.1528 - val_accuracy: 0.9380\n",
            "Epoch 35/40\n",
            "162/162 [==============================] - 1s 9ms/step - loss: 0.1528 - accuracy: 0.9392 - val_loss: 0.1750 - val_accuracy: 0.9421\n",
            "Epoch 36/40\n",
            "162/162 [==============================] - 2s 10ms/step - loss: 0.2334 - accuracy: 0.9206 - val_loss: 0.1682 - val_accuracy: 0.9380\n",
            "Epoch 37/40\n",
            "162/162 [==============================] - 3s 16ms/step - loss: 0.1679 - accuracy: 0.9392 - val_loss: 0.2314 - val_accuracy: 0.9132\n",
            "Epoch 38/40\n",
            "162/162 [==============================] - 2s 11ms/step - loss: 0.1739 - accuracy: 0.9429 - val_loss: 0.1378 - val_accuracy: 0.9256\n",
            "Epoch 39/40\n",
            "162/162 [==============================] - 1s 9ms/step - loss: 0.1643 - accuracy: 0.9342 - val_loss: 0.1299 - val_accuracy: 0.9669\n",
            "Epoch 40/40\n",
            "162/162 [==============================] - 1s 9ms/step - loss: 0.1355 - accuracy: 0.9479 - val_loss: 0.1674 - val_accuracy: 0.9380\n"
          ]
        }
      ],
      "source": [
        "history = model.fit( xTrain , yTrain , epochs=40, batch_size=5 , validation_data=(xval, yval)  )"
      ]
    },
    {
      "cell_type": "code",
      "execution_count": null,
      "metadata": {
        "id": "sv7moGGEvxOz"
      },
      "outputs": [],
      "source": [
        "model.save(\"Lung7.h5\")"
      ]
    },
    {
      "cell_type": "code",
      "execution_count": null,
      "metadata": {
        "id": "lLjaphuEjwPR"
      },
      "outputs": [],
      "source": []
    }
  ],
  "metadata": {
    "colab": {
      "provenance": [],
      "include_colab_link": true
    },
    "kernelspec": {
      "display_name": "Python 3",
      "name": "python3"
    },
    "language_info": {
      "name": "python"
    }
  },
  "nbformat": 4,
  "nbformat_minor": 0
}